{
 "cells": [
  {
   "cell_type": "code",
   "execution_count": 13,
   "metadata": {
    "collapsed": true
   },
   "outputs": [],
   "source": [
    "import numpy as np\n",
    "import matplotlib.pyplot as plt\n",
    "%matplotlib inline\n",
    "\n",
    "g = 9.8\n",
    "\n",
    "class projectile:\n",
    "    \n",
    "    def __init__(self, v_init, ang):\n",
    "        \n",
    "        self.v_init_x = np.cos(ang) * v_init\n",
    "        self.v_init_y = np.sin(ang) * v_init\n",
    "    \n",
    "    def v_x(self, time):\n",
    "        return self.v_init_x\n",
    "    \n",
    "    def t2top(self):        \n",
    "        return self.v_init_y / g\n",
    "    \n",
    "    def v_y(self, time):\n",
    "        \n",
    "        if (time > 2 * self.t2top()).any():\n",
    "            print \"The trajectory has already completed\"\n",
    "        else:\n",
    "            return self.v_init_y - g * time\n",
    "            \n",
    "    def height(self, time):\n",
    "        return self.v_init_y * time - 0.5 * g * time ** 2\n",
    "        \n",
    "    def distance(self, time):\n",
    "        return self.v_init_x * time\n",
    "    \n",
    "    def traj_ang(self, time):\n",
    "        return np.arctan(v_y(time) / v_x(time))\n",
    "        "
   ]
  },
  {
   "cell_type": "code",
   "execution_count": 14,
   "metadata": {
    "collapsed": false
   },
   "outputs": [
    {
     "data": {
      "image/png": "[encoded data removed]",
      "text/plain": [
       "<matplotlib.figure.Figure at 0x7f23687ef2d0>"
      ]
     },
     "metadata": {},
     "output_type": "display_data"
    }
   ],
   "source": [
    "proj = projectile(12.7, 0.3)\n",
    "ts = np.linspace(0,0.7, 50)\n",
    "xs = proj.distance(ts)\n",
    "ys = proj.height(ts)\n",
    "\n",
    "fig = plt.figure()\n",
    "ax = fig.add_subplot(111)\n",
    "ax.plot(xs, ys)\n",
    "fig.show()"
   ]
  },
  {
   "cell_type": "code",
   "execution_count": 16,
   "metadata": {
    "collapsed": false
   },
   "outputs": [
    {
     "data": {
      "text/plain": [
       "<matplotlib.figure.Figure at 0x7f2368701f10>"
      ]
     },
     "metadata": {},
     "output_type": "display_data"
    }
   ],
   "source": [
    "fig2 = plt.figure()\n",
    "ax2 = fig.add_subplot(111)\n",
    "ax2.plot(ts, proj.v_y(ts))\n",
    "fig2.show()"
   ]
  }
 ],
 "metadata": {
  "kernelspec": {
   "display_name": "Python 2",
   "language": "python",
   "name": "python2"
  },
  "language_info": {
   "codemirror_mode": {
    "name": "ipython",
    "version": 2
   },
   "file_extension": ".py",
   "mimetype": "text/x-python",
   "name": "python",
   "nbconvert_exporter": "python",
   "pygments_lexer": "ipython2",
   "version": "2.7.12"
  }
 },
 "nbformat": 4,
 "nbformat_minor": 0
}
